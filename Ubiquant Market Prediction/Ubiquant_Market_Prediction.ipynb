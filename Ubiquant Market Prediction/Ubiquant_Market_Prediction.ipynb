{
 "cells": [
  {
   "cell_type": "code",
   "execution_count": null,
   "metadata": {
    "id": "7fndaZOl4LNW"
   },
   "outputs": [],
   "source": [
    "!pip install -q kaggle\n",
    "from google.colab import drive\n",
    "drive.mount('/content/gdrive')\n",
    " \n",
    "!pip3 install --upgrade --force-reinstall --no-deps kaggle\n",
    " \n",
    "!mkdir ~/.kaggle  \n",
    "!cp ./gdrive/MyDrive/kaggle.json ~/.kaggle/\n",
    "!chmod 600 ~/.kaggle/kaggle.json"
   ]
  },
  {
   "cell_type": "code",
   "execution_count": null,
   "metadata": {
    "id": "xdd2eDsp4XJH"
   },
   "outputs": [],
   "source": [
    "!kaggle competitions download -c ubiquant-market-prediction"
   ]
  },
  {
   "cell_type": "code",
   "execution_count": null,
   "metadata": {
    "id": "AkYBFGbW4pSj"
   },
   "outputs": [],
   "source": [
    "!unzip ubiquant-market-prediction.zip"
   ]
  },
  {
   "cell_type": "code",
   "execution_count": null,
   "metadata": {
    "id": "33SW4Rfv0IGR"
   },
   "outputs": [],
   "source": [
    "import sklearn as sk\n",
    "from sklearn.feature_extraction.text import TfidfTransformer\n",
    "from sklearn.feature_extraction.text import CountVectorizer\n",
    "from sklearn.preprocessing import OneHotEncoder\n",
    "from sklearn.model_selection import train_test_split\n",
    "import numpy as np\n",
    "import pandas as pd\n",
    "import tensorflow as tf\n",
    "from tensorboard.plugins.hparams import api as hp\n",
    "import tensorflow_hub as hub\n",
    "import os"
   ]
  },
  {
   "cell_type": "code",
   "execution_count": null,
   "metadata": {
    "id": "PzY_MMVFxsCB"
   },
   "outputs": [],
   "source": [
    "tf.debugging.set_log_device_placement(False)\n",
    "gpus = tf.config.list_logical_devices('GPU')\n",
    "strategy = tf.distribute.MirroredStrategy(gpus)"
   ]
  },
  {
   "cell_type": "code",
   "execution_count": null,
   "metadata": {
    "id": "JD1ErE434C6h"
   },
   "outputs": [],
   "source": [
    "with open('train.csv') as f:\n",
    "  print(f.readline())\n",
    "  print(len(f.readline().split(',')))"
   ]
  },
  {
   "cell_type": "code",
   "execution_count": null,
   "metadata": {
    "id": "c9OiEZ3dZbeV"
   },
   "outputs": [],
   "source": [
    "column_names = ['row_id', 'time_id', 'investment_id', 'target']\n",
    "column_names.extend(['f_' + str(i) for i in range(300)])"
   ]
  },
  {
   "cell_type": "code",
   "execution_count": null,
   "metadata": {
    "id": "XHghHG0m71Ud"
   },
   "outputs": [],
   "source": [
    "types = [tf.string, tf.int64, tf.int64]\n",
    "types.extend([tf.float64] * 301)"
   ]
  },
  {
   "cell_type": "code",
   "execution_count": null,
   "metadata": {
    "id": "sIlkhUtg4-pu"
   },
   "outputs": [],
   "source": [
    "train_x = tf.data.experimental.make_csv_dataset('train.csv', batch_size=32, column_defaults=types[4::], select_columns=column_names[4::])\n",
    "train_y = tf.data.experimental.make_csv_dataset('train.csv', batch_size=32, column_defaults=types[3:4:], select_columns=column_names[3:4:])"
   ]
  },
  {
   "cell_type": "code",
   "execution_count": null,
   "metadata": {
    "id": "kcqh9VgcxB74"
   },
   "outputs": [],
   "source": [
    "train = tf.data.Dataset.zip((train_x, train_y))"
   ]
  },
  {
   "cell_type": "code",
   "execution_count": null,
   "metadata": {
    "id": "iYCR1yQyxfTv"
   },
   "outputs": [],
   "source": [
    "def get_model():\n",
    " with strategy.scope():\n",
    "    model = tf.keras.Sequential()\n",
    "    model.add(tf.keras.layers.Input(shape=(300,)))\n",
    "    model.add(tf.keras.layers.Dense(100, activation=tf.nn.elu))\n",
    "    model.add(tf.keras.layers.Dropout(0.1))\n",
    "    model.add(tf.keras.layers.Dense(1, activation=tf.nn.sigmoid))\n",
    "    model.compile(optimizer='Adam', loss='MSLE', metrics=[tf.keras.metrics.RootMeanSquaredError()])\n",
    "    return model"
   ]
  },
  {
   "cell_type": "code",
   "execution_count": null,
   "metadata": {
    "id": "2UNOWI19yRjy"
   },
   "outputs": [],
   "source": [
    "model = get_model()"
   ]
  },
  {
   "cell_type": "code",
   "execution_count": null,
   "metadata": {
    "id": "8VBKcVu0yUDR"
   },
   "outputs": [],
   "source": [
    "model.fit(x=train, epochs=1, batch_size=32)"
   ]
  },
  {
   "cell_type": "code",
   "execution_count": null,
   "metadata": {
    "id": "EupBW8Hk4QkQ"
   },
   "outputs": [],
   "source": []
  }
 ],
 "metadata": {
  "colab": {
   "name": "Untitled2.ipynb",
   "provenance": []
  },
  "kernelspec": {
   "display_name": "Python 3",
   "language": "python",
   "name": "python3"
  },
  "language_info": {
   "codemirror_mode": {
    "name": "ipython",
    "version": 3
   },
   "file_extension": ".py",
   "mimetype": "text/x-python",
   "name": "python",
   "nbconvert_exporter": "python",
   "pygments_lexer": "ipython3",
   "version": "3.7.4"
  }
 },
 "nbformat": 4,
 "nbformat_minor": 1
}
